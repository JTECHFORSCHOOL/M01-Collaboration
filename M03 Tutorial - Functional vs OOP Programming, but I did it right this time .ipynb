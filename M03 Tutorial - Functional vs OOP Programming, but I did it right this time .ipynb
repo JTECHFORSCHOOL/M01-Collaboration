{
 "cells": [
  {
   "cell_type": "code",
   "execution_count": 35,
   "id": "0b0d9092",
   "metadata": {},
   "outputs": [
    {
     "name": "stdout",
     "output_type": "stream",
     "text": [
      "5\n",
      "5\n",
      "3\n"
     ]
    }
   ],
   "source": [
    "#setup\n",
    "speaker = -1\n",
    "def binarysearch(list, numbers, seaked, speaker):\n",
    "    count = int(len(list))\n",
    "    print(count)\n",
    "    print(numbers)\n",
    "    if int(count) == int(numbers):\n",
    "        for i in range (count):\n",
    "            if seaked == list[i]:\n",
    "                speaker = i\n",
    "        print(speaker)\n",
    "    else:\n",
    "        print(\"Error numbers are off\")\n",
    "    \n",
    "#input\n",
    "numbers = 5\n",
    "list = [1, 2, 3, 4, 5]\n",
    "seaked = 4\n",
    "binarysearch(list, numbers, seaked, speaker)"
   ]
  },
  {
   "cell_type": "code",
   "execution_count": 49,
   "id": "b43eaa49",
   "metadata": {},
   "outputs": [
    {
     "name": "stdout",
     "output_type": "stream",
     "text": [
      "[0, 0, 1]\n"
     ]
    }
   ],
   "source": [
    "#setup\n",
    "def sort012(list, lenght):\n",
    "    if len(list) == lenght:\n",
    "        list.sort()\n",
    "        print(list)\n",
    "    else:\n",
    "        print(\"error\")\n",
    "#input\n",
    "list = [0,1,0]\n",
    "lenght = 3\n",
    "sort012(list, lenght)\n"
   ]
  },
  {
   "cell_type": "code",
   "execution_count": null,
   "id": "ec819159",
   "metadata": {},
   "outputs": [],
   "source": []
  }
 ],
 "metadata": {},
 "nbformat": 4,
 "nbformat_minor": 5
}
