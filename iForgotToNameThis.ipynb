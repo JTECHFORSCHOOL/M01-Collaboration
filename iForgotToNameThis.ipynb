{
 "cells": [
  {
   "cell_type": "code",
   "execution_count": 6,
   "id": "0a706927",
   "metadata": {},
   "outputs": [
    {
     "name": "stdout",
     "output_type": "stream",
     "text": [
      "the admount of seconds in an hour is 3600\n",
      "the admount of seconds in an day is 86400\n",
      "24.0\n",
      "24\n",
      "they are the same outside of the .0 straped to the back of one of them\n"
     ]
    }
   ],
   "source": [
    "min_in_hour = 60\n",
    "sec_in_min = 60\n",
    "seconds_per_hour = MinInHour * SecInMin\n",
    "print(\"the admount of seconds in an hour is \"+ str(seconds_per_hour))\n",
    "seconds_per_day = seconds_per_hour * 24\n",
    "print(\"the admount of seconds in an day is \"+ str(seconds_per_day))\n",
    "hour_per_day_one_slash=seconds_per_day/seconds_per_hour\n",
    "print(str(hour_per_day_one_slash))\n",
    "hour_per_day_two_slash=seconds_per_day//seconds_per_hour\n",
    "print(str(hour_per_day_two_slash))\n",
    "print(\"they are the same outside of the .0 straped to the back of one of them\")"
   ]
  },
  {
   "cell_type": "code",
   "execution_count": null,
   "id": "9b218733",
   "metadata": {},
   "outputs": [],
   "source": []
  }
 ],
 "metadata": {
  "kernelspec": {
   "display_name": "Python 3 (ipykernel)",
   "language": "python",
   "name": "python3"
  },
  "language_info": {
   "codemirror_mode": {
    "name": "ipython",
    "version": 3
   },
   "file_extension": ".py",
   "mimetype": "text/x-python",
   "name": "python",
   "nbconvert_exporter": "python",
   "pygments_lexer": "ipython3",
   "version": "3.11.5"
  }
 },
 "nbformat": 4,
 "nbformat_minor": 5
}
